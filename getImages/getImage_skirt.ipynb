{
 "cells": [
  {
   "cell_type": "code",
   "execution_count": 1,
   "metadata": {},
   "outputs": [],
   "source": [
    "import requests\n",
    "import urllib.request\n",
    "from bs4 import BeautifulSoup\n",
    "import PIL.Image as pilimg\n",
    "import numpy as np\n",
    "import matplotlib.pyplot as plt\n",
    "\n",
    "key = \"d38e157e0e550b05ad900b4a8e82067e\"\n",
    "apiCode = \"ProductSearch\"\n",
    "keyword = urllib.parse.quote(\"브랜드 여성의류 치마\") \n",
    "pageSize = \"200\" \n",
    "sortCd = \"CP\" \n",
    "jpg = \".jpg\"\n",
    "\n",
    "for i in range(5):\n",
    "    pageNum = str(i+1) \n",
    "    url = \"http://openapi.11st.co.kr/openapi/OpenApiService.tmall?key=\"+key+\"&apiCode=\"+apiCode+\"&keyword=\"+keyword+\"&pageNum=\"+pageNum+\"&pageSize=\"+pageSize+\"&sortCd=\"+sortCd\n",
    "    req = requests.get(url)\n",
    "    xmlRowdata = req.content.decode('cp949')\n",
    "    soup = BeautifulSoup(xmlRowdata, 'html.parser')\n",
    "\n",
    "    for j in soup.find_all(\"productcode\"): \n",
    "        code = j.text\n",
    "        url = \"http://openapi.11st.co.kr/openapi/OpenApiService.tmall?key=\"+key+\"&apiCode=ProductImage&productCode=\"+code\n",
    "        fp = urllib.request.urlopen(url)\n",
    "        src = fp.read()\n",
    "        fp.close()\n",
    "        soup = BeautifulSoup(src, 'html.parser')\n",
    "        bi = soup.find('basicimage').text\n",
    "        name = code+jpg\n",
    "        urllib.request.urlretrieve(bi, name)"
   ]
  },
  {
   "cell_type": "code",
   "execution_count": null,
   "metadata": {},
   "outputs": [],
   "source": []
  }
 ],
 "metadata": {
  "kernelspec": {
   "display_name": "Python 3",
   "language": "python",
   "name": "python3"
  },
  "language_info": {
   "codemirror_mode": {
    "name": "ipython",
    "version": 3
   },
   "file_extension": ".py",
   "mimetype": "text/x-python",
   "name": "python",
   "nbconvert_exporter": "python",
   "pygments_lexer": "ipython3",
   "version": "3.6.10"
  }
 },
 "nbformat": 4,
 "nbformat_minor": 4
}
